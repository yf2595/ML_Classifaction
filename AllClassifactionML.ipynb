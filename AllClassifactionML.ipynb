{
  "nbformat": 4,
  "nbformat_minor": 0,
  "metadata": {
    "colab": {
      "provenance": [],
      "collapsed_sections": []
    },
    "kernelspec": {
      "name": "python3",
      "display_name": "Python 3"
    },
    "language_info": {
      "name": "python"
    }
  },
  "cells": [
    {
      "cell_type": "markdown",
      "source": [
        "Import the libereris "
      ],
      "metadata": {
        "id": "awVytKnl01hP"
      }
    },
    {
      "cell_type": "code",
      "execution_count": 1,
      "metadata": {
        "id": "o2UwqmEI0yU5"
      },
      "outputs": [],
      "source": [
        "import numpy as np\n",
        "import matplotlib.pyplot as plt\n",
        "from matplotlib.colors import ListedColormap\n",
        "import pandas as pd\n",
        "from sklearn.feature_selection import SelectKBest\n",
        "from sklearn.feature_selection import f_classif\n",
        "from sklearn.neighbors import KNeighborsClassifier\n",
        "from sklearn.model_selection import StratifiedKFold\n",
        "from sklearn.metrics import confusion_matrix, accuracy_score, roc_auc_score\n"
      ]
    },
    {
      "cell_type": "markdown",
      "source": [
        "Import the dataSet \n",
        "turn into X and y\n",
        "\n"
      ],
      "metadata": {
        "id": "FwfxjKiO00VJ"
      }
    },
    {
      "cell_type": "code",
      "source": [
        "data = pd.read_csv(\"heart.csv\")"
      ],
      "metadata": {
        "id": "7heXtLZS1L5A"
      },
      "execution_count": 4,
      "outputs": []
    },
    {
      "cell_type": "code",
      "source": [
        "# understand the different features in the dataset\n",
        "data.info()"
      ],
      "metadata": {
        "colab": {
          "base_uri": "https://localhost:8080/"
        },
        "id": "54DaW4CJqWBJ",
        "outputId": "3d8461fc-596f-4e30-ec22-5ad00cf52193"
      },
      "execution_count": 5,
      "outputs": [
        {
          "output_type": "stream",
          "name": "stdout",
          "text": [
            "<class 'pandas.core.frame.DataFrame'>\n",
            "RangeIndex: 303 entries, 0 to 302\n",
            "Data columns (total 14 columns):\n",
            " #   Column    Non-Null Count  Dtype  \n",
            "---  ------    --------------  -----  \n",
            " 0   age       303 non-null    int64  \n",
            " 1   sex       303 non-null    int64  \n",
            " 2   cp        303 non-null    int64  \n",
            " 3   trtbps    303 non-null    int64  \n",
            " 4   chol      303 non-null    int64  \n",
            " 5   fbs       303 non-null    int64  \n",
            " 6   restecg   303 non-null    int64  \n",
            " 7   thalachh  303 non-null    int64  \n",
            " 8   exng      303 non-null    int64  \n",
            " 9   oldpeak   303 non-null    float64\n",
            " 10  slp       303 non-null    int64  \n",
            " 11  caa       303 non-null    int64  \n",
            " 12  thall     303 non-null    int64  \n",
            " 13  output    303 non-null    int64  \n",
            "dtypes: float64(1), int64(13)\n",
            "memory usage: 33.3 KB\n"
          ]
        }
      ]
    },
    {
      "cell_type": "markdown",
      "source": [
        "encode object type into number (M,F) -> (1,0)\n",
        "\n",
        "print the unique results"
      ],
      "metadata": {
        "id": "PJ8yL3WXxcxV"
      }
    },
    {
      "cell_type": "code",
      "source": [
        "from sklearn.preprocessing import LabelEncoder\n",
        "# encode=LabelEncoder()\n",
        "# data['sex']=encode.fit_transform(data['sex'])\n",
        "# data['sex'].unique()"
      ],
      "metadata": {
        "id": "PEfrX8UZxZRz"
      },
      "execution_count": 6,
      "outputs": []
    },
    {
      "cell_type": "code",
      "source": [
        "# check for null records\n",
        "data.isnull().sum()"
      ],
      "metadata": {
        "colab": {
          "base_uri": "https://localhost:8080/"
        },
        "id": "_NCTve58qtMn",
        "outputId": "467f5a63-4598-4db3-cc9d-17da364a2ffb"
      },
      "execution_count": 7,
      "outputs": [
        {
          "output_type": "execute_result",
          "data": {
            "text/plain": [
              "age         0\n",
              "sex         0\n",
              "cp          0\n",
              "trtbps      0\n",
              "chol        0\n",
              "fbs         0\n",
              "restecg     0\n",
              "thalachh    0\n",
              "exng        0\n",
              "oldpeak     0\n",
              "slp         0\n",
              "caa         0\n",
              "thall       0\n",
              "output      0\n",
              "dtype: int64"
            ]
          },
          "metadata": {},
          "execution_count": 7
        }
      ]
    },
    {
      "cell_type": "code",
      "source": [
        "# if found such null records, then remove then\n",
        "data=data.dropna()"
      ],
      "metadata": {
        "id": "W_cXe_DIxP5v"
      },
      "execution_count": 8,
      "outputs": []
    },
    {
      "cell_type": "markdown",
      "source": [
        "Check featrue importance by f-value for classification"
      ],
      "metadata": {
        "id": "s1f3dGmThhKY"
      }
    },
    {
      "cell_type": "code",
      "source": [
        "X = data.iloc[:,:-1].values\n",
        "y = data.iloc[:,-1].values\n",
        "\n",
        "cols = len(X[0])\n",
        "\n",
        "selector = SelectKBest(f_classif, k=cols)\n",
        "fit = selector.fit(X,y)\n",
        "cols = selector.get_support(indices=True)\n",
        "new_features = data.columns[cols]\n",
        "for i in range(len(new_features)):\n",
        "    print(f'Name: {new_features[i]}, Score: {fit.scores_[i]}')"
      ],
      "metadata": {
        "colab": {
          "base_uri": "https://localhost:8080/"
        },
        "id": "WMmmwTl0gazq",
        "outputId": "cc2f9b29-cc29-4c85-a0a6-7a4fd42d657e"
      },
      "execution_count": 82,
      "outputs": [
        {
          "output_type": "stream",
          "name": "stdout",
          "text": [
            "Name: age, Score: 16.11669982318991\n",
            "Name: sex, Score: 25.792191153788792\n",
            "Name: cp, Score: 69.77227149304562\n",
            "Name: trtbps, Score: 6.458168674003441\n",
            "Name: chol, Score: 2.2029834463816798\n",
            "Name: fbs, Score: 0.23694233592171493\n",
            "Name: restecg, Score: 5.7772089051661775\n",
            "Name: thalachh, Score: 65.12010440124943\n",
            "Name: exng, Score: 70.95243821639583\n",
            "Name: oldpeak, Score: 68.55143941030717\n",
            "Name: slp, Score: 40.90207062846906\n",
            "Name: caa, Score: 54.55983379579102\n",
            "Name: thall, Score: 40.407696149467945\n"
          ]
        }
      ]
    },
    {
      "cell_type": "code",
      "source": [
        "data = data.drop(['fbs','chol','restecg','trtbps'],axis=1)"
      ],
      "metadata": {
        "id": "YT4LXxK0vvjZ"
      },
      "execution_count": 83,
      "outputs": []
    },
    {
      "cell_type": "markdown",
      "source": [
        "show data set balance"
      ],
      "metadata": {
        "id": "0jgSeJKThri9"
      }
    },
    {
      "cell_type": "code",
      "source": [
        "print(data['output'].value_counts())"
      ],
      "metadata": {
        "colab": {
          "base_uri": "https://localhost:8080/"
        },
        "id": "7QtHXiNvhrNv",
        "outputId": "02199193-a801-481c-b56b-ec7cbd44c29a"
      },
      "execution_count": 84,
      "outputs": [
        {
          "output_type": "stream",
          "name": "stdout",
          "text": [
            "1    165\n",
            "0    138\n",
            "Name: output, dtype: int64\n"
          ]
        }
      ]
    },
    {
      "cell_type": "markdown",
      "source": [
        "Add more samples to balance the dataset"
      ],
      "metadata": {
        "id": "gO9751zxSvd8"
      }
    },
    {
      "cell_type": "code",
      "source": [
        "class_0 = data[data['output'] == 0]\n",
        "class_1 = data[data['output'] == 1]"
      ],
      "metadata": {
        "id": "UIH3e1adSrxw"
      },
      "execution_count": 9,
      "outputs": []
    },
    {
      "cell_type": "code",
      "source": [
        "df_class_0 = class_0.sample(165, replace=True)\n",
        "data = pd.concat([class_1, df_class_0], axis=0)\n",
        "data.info()"
      ],
      "metadata": {
        "colab": {
          "base_uri": "https://localhost:8080/"
        },
        "id": "6pk8qOF1S3yf",
        "outputId": "747817f9-eedf-45cf-96a7-f882084387f1"
      },
      "execution_count": 10,
      "outputs": [
        {
          "output_type": "stream",
          "name": "stdout",
          "text": [
            "<class 'pandas.core.frame.DataFrame'>\n",
            "Int64Index: 330 entries, 0 to 262\n",
            "Data columns (total 14 columns):\n",
            " #   Column    Non-Null Count  Dtype  \n",
            "---  ------    --------------  -----  \n",
            " 0   age       330 non-null    int64  \n",
            " 1   sex       330 non-null    int64  \n",
            " 2   cp        330 non-null    int64  \n",
            " 3   trtbps    330 non-null    int64  \n",
            " 4   chol      330 non-null    int64  \n",
            " 5   fbs       330 non-null    int64  \n",
            " 6   restecg   330 non-null    int64  \n",
            " 7   thalachh  330 non-null    int64  \n",
            " 8   exng      330 non-null    int64  \n",
            " 9   oldpeak   330 non-null    float64\n",
            " 10  slp       330 non-null    int64  \n",
            " 11  caa       330 non-null    int64  \n",
            " 12  thall     330 non-null    int64  \n",
            " 13  output    330 non-null    int64  \n",
            "dtypes: float64(1), int64(13)\n",
            "memory usage: 38.7 KB\n"
          ]
        }
      ]
    },
    {
      "cell_type": "code",
      "source": [
        "X = data.iloc[:,:-1].values\n",
        "y = data.iloc[:,-1].values"
      ],
      "metadata": {
        "id": "330EpHvCv_kg"
      },
      "execution_count": 11,
      "outputs": []
    },
    {
      "cell_type": "markdown",
      "source": [
        "Clean the data:\n",
        "\n",
        "*   replace missing slots or remove the entire row\n",
        "*   transrfrom categorial data\n",
        "*   one Hot encoding\n"
      ],
      "metadata": {
        "id": "M0LcEIca1bBy"
      }
    },
    {
      "cell_type": "markdown",
      "source": [
        "Split into train and test"
      ],
      "metadata": {
        "id": "gt7uOGWN1vJv"
      }
    },
    {
      "cell_type": "code",
      "source": [
        "from sklearn.model_selection import train_test_split\n",
        "X_train, X_test, y_train, y_test = train_test_split(X, y, test_size = 0.2, random_state = 0)\n",
        "\n",
        "print(X_train.shape)\n",
        "print(y_train.shape)\n",
        "print(X_test.shape)\n",
        "print(y_test.shape)"
      ],
      "metadata": {
        "id": "m9XqPlRQ1xjh",
        "colab": {
          "base_uri": "https://localhost:8080/"
        },
        "outputId": "fdeedbaa-64f2-44f0-957e-59505bf5ee5b"
      },
      "execution_count": 12,
      "outputs": [
        {
          "output_type": "stream",
          "name": "stdout",
          "text": [
            "(264, 13)\n",
            "(264,)\n",
            "(66, 13)\n",
            "(66,)\n"
          ]
        }
      ]
    },
    {
      "cell_type": "markdown",
      "source": [
        "feature scailing\n"
      ],
      "metadata": {
        "id": "hc5jKySE1ylf"
      }
    },
    {
      "cell_type": "code",
      "source": [
        "from sklearn.preprocessing import StandardScaler\n",
        "sc = StandardScaler()\n",
        "X = sc.fit_transform(X)\n",
        "\n",
        "# do it by hand - min_max_normalization \n",
        "\n",
        "# for column in data.columns:\n",
        "#     data[column] = (data[column] - data[column].min()) / (data[column].max() - data[column].min()) \n",
        "# data.head()"
      ],
      "metadata": {
        "id": "4a_mSZe313cr"
      },
      "execution_count": 13,
      "outputs": []
    },
    {
      "cell_type": "code",
      "source": [
        "models = []\n",
        "mean_accuracy = []\n",
        "mean_auc_roc = []"
      ],
      "metadata": {
        "id": "HYxQ8t-4r6y3"
      },
      "execution_count": 14,
      "outputs": []
    },
    {
      "cell_type": "code",
      "source": [
        "def get_pred(clf, X_test):\n",
        "  # predict results\n",
        "  y_pred = clf.predict(X_test)\n",
        "  # predict probabilities\n",
        "  clf_probs = clf.predict_proba(X_test)\n",
        "  # keep probabilities for the positive outcome only\n",
        "  y_probs = clf_probs[:, 1]\n",
        "  \n",
        "  return y_pred, y_probs \n",
        "\n",
        "\n",
        "def calc_metrics(acc_lst, roc_lst):\n",
        "  # calculate accuracy mean and std\n",
        "  mean = sum(acc_lst) / len(acc_lst)\n",
        "  variance = sum([((x - mean) ** 2) for x in acc_lst]) / len(acc_lst)\n",
        "  stddev = variance ** 0.5\n",
        "\n",
        "  # calculate auc_roc mean and std\n",
        "  mean_roc = sum(roc_lst) / len(roc_lst)\n",
        "  variance_roc = sum([((x - mean) ** 2) for x in roc_lst]) / len(roc_lst)\n",
        "  stddev_roc = variance_roc ** 0.5\n",
        "\n",
        "  # summarize results\n",
        "  print('Mean Accuracy: %.3f' % mean)\n",
        "  print('std Accuracy: %.3f' % stddev)\n",
        "  print('Mean AUC_ROC: %.3f' % mean_roc)\n",
        "  print('std AUC_ROC: %.3f' % stddev_roc)\n",
        "\n",
        "  return (mean, mean_roc)\n",
        "\n",
        "\n",
        "def calc_accuracy_roc_by_kfold(clf, X, y):\n",
        "  clf_accuracy = []\n",
        "  clf_ROC_AUC = []\n",
        "  skf = StratifiedKFold(n_splits=10, shuffle=True)\n",
        "\n",
        "  for train_index, test_index in skf.split(X,y):\n",
        "    # split to train and test\n",
        "    X_train, X_test = X[train_index], X[test_index]\n",
        "    y_train, y_test = y[train_index], y[test_index]\n",
        "    \n",
        "    # clf initilization,training and prediction\n",
        "    clf.fit(X_train,y_train)\n",
        "    y_pred, y_probs = get_pred(clf, X_test)\n",
        "    \n",
        "    clf_accuracy.append(accuracy_score(y_test, y_pred))\n",
        "    clf_ROC_AUC.append(roc_auc_score(y_test, y_probs))\n",
        "  \n",
        "  return calc_metrics(clf_accuracy, clf_ROC_AUC)\n"
      ],
      "metadata": {
        "id": "xRRd4oRQkrky"
      },
      "execution_count": 15,
      "outputs": []
    },
    {
      "cell_type": "markdown",
      "source": [
        "Grid Search to get the best params to init a new classifier"
      ],
      "metadata": {
        "id": "hb-3sETWjC1n"
      }
    },
    {
      "cell_type": "code",
      "source": [
        "from sklearn.model_selection import GridSearchCV\n",
        "def gridSearch_fit_predict(clf, params):\n",
        "  best = GridSearchCV(clf, params, cv = 3)\n",
        "  best.fit(X_train, y_train)\n",
        "  return best"
      ],
      "metadata": {
        "id": "ZzoILzXijK8s"
      },
      "execution_count": 16,
      "outputs": []
    },
    {
      "cell_type": "markdown",
      "source": [
        "KNN classifier"
      ],
      "metadata": {
        "id": "NTgXQErg8Exi"
      }
    },
    {
      "cell_type": "code",
      "source": [
        "from sklearn.neighbors import KNeighborsClassifier\n",
        "# set the classifier and his params\n",
        "knn_c = KNeighborsClassifier()\n",
        "k_range = list(range(1, 50))\n",
        "metrics = ['euclidean', 'manhattan']\n",
        "param_knn = dict(n_neighbors=k_range, metric = metrics)\n",
        "\n",
        "# activate grid search and calculate accuracy and ROC AUC on test set\n",
        "knn_best = gridSearch_fit_predict(knn_c, param_knn)\n",
        "knn_c = KNeighborsClassifier(**knn_best.best_params_)\n",
        "print(\"KNN results:\")\n",
        "print(knn_best.best_params_)\n",
        "result = calc_accuracy_roc_by_kfold(knn_c, X, y)\n",
        "\n",
        "# add to plot lists\n",
        "models.append('KNN')\n",
        "mean_accuracy.append(result[0])\n",
        "mean_auc_roc.append(result[1])\n"
      ],
      "metadata": {
        "colab": {
          "base_uri": "https://localhost:8080/"
        },
        "id": "46ePiTVI4jOs",
        "outputId": "9fcbdd00-65fe-4876-ffc4-280c622315fb"
      },
      "execution_count": 17,
      "outputs": [
        {
          "output_type": "stream",
          "name": "stdout",
          "text": [
            "KNN results:\n",
            "{'metric': 'manhattan', 'n_neighbors': 1}\n",
            "Mean Accuracy: 0.870\n",
            "std Accuracy: 0.045\n",
            "Mean AUC_ROC: 0.870\n",
            "std AUC_ROC: 0.047\n"
          ]
        }
      ]
    },
    {
      "cell_type": "markdown",
      "source": [
        "Decision tree"
      ],
      "metadata": {
        "id": "pQ-OsAPs8JRG"
      }
    },
    {
      "cell_type": "code",
      "source": [
        "from sklearn.tree import DecisionTreeClassifier\n",
        "tree_c = DecisionTreeClassifier()\n",
        "info_type = [\"entropy\", \"gini\"]\n",
        "samples = list(range(2, 30))\n",
        "param_tree = dict(criterion=info_type, min_samples_split=samples)\n",
        "\n",
        "tree_best = gridSearch_fit_predict(tree_c, param_tree)\n",
        "tree_c = DecisionTreeClassifier(**tree_best.best_params_)\n",
        "print(\"Decision Tree results:\")\n",
        "print(tree_best.best_params_)\n",
        "result = calc_accuracy_roc_by_kfold(tree_c, X, y)\n",
        "\n",
        "# add to plot lists\n",
        "models.append('Decision Tree')\n",
        "mean_accuracy.append(result[0])\n",
        "mean_auc_roc.append(result[1])"
      ],
      "metadata": {
        "colab": {
          "base_uri": "https://localhost:8080/"
        },
        "id": "Ou84QJLHnFnr",
        "outputId": "0bbbc8e1-1eb9-4bd4-d36e-39eb08772403"
      },
      "execution_count": 18,
      "outputs": [
        {
          "output_type": "stream",
          "name": "stdout",
          "text": [
            "Decision Tree results:\n",
            "{'criterion': 'entropy', 'min_samples_split': 2}\n",
            "Mean Accuracy: 0.858\n",
            "std Accuracy: 0.045\n",
            "Mean AUC_ROC: 0.858\n",
            "std AUC_ROC: 0.045\n"
          ]
        }
      ]
    },
    {
      "cell_type": "markdown",
      "source": [
        "Random forest classifier"
      ],
      "metadata": {
        "id": "jOageJ-58OAP"
      }
    },
    {
      "cell_type": "code",
      "source": [
        "from sklearn.ensemble import RandomForestClassifier\n",
        "forest_c = RandomForestClassifier()\n",
        "t_range = list(range(2, 100))\n",
        "param_forest = dict(criterion=info_type, n_estimators=t_range)\n",
        "\n",
        "forest_best = gridSearch_fit_predict(forest_c, param_forest)\n",
        "forest_c = RandomForestClassifier(**forest_best.best_params_)\n",
        "print(\"Random Forest results:\")\n",
        "print(forest_best.best_params_)\n",
        "result = calc_accuracy_roc_by_kfold(forest_c, X, y)\n",
        "\n",
        "# add to plot lists\n",
        "models.append('Random Forest')\n",
        "mean_accuracy.append(result[0])\n",
        "mean_auc_roc.append(result[1])"
      ],
      "metadata": {
        "colab": {
          "base_uri": "https://localhost:8080/"
        },
        "id": "DWCHfRKTnFL_",
        "outputId": "af622c10-f119-4ca3-b050-8e889da31e50"
      },
      "execution_count": 19,
      "outputs": [
        {
          "output_type": "stream",
          "name": "stdout",
          "text": [
            "Random Forest results:\n",
            "{'criterion': 'entropy', 'n_estimators': 51}\n",
            "Mean Accuracy: 0.906\n",
            "std Accuracy: 0.025\n",
            "Mean AUC_ROC: 0.961\n",
            "std AUC_ROC: 0.061\n"
          ]
        }
      ]
    },
    {
      "cell_type": "markdown",
      "source": [
        "Logistic Regression"
      ],
      "metadata": {
        "id": "B4qlbabRk6mc"
      }
    },
    {
      "cell_type": "code",
      "source": [
        "from sklearn.linear_model import LogisticRegression\n",
        "\n",
        "lr_c = LogisticRegression(max_iter=1000)\n",
        "print(\"Logistic Regression results:\")\n",
        "result = calc_accuracy_roc_by_kfold(lr_c, X, y)\n",
        "# add to plot lists\n",
        "models.append('Logistic Regression')\n",
        "mean_accuracy.append(result[0])\n",
        "mean_auc_roc.append(result[1])"
      ],
      "metadata": {
        "colab": {
          "base_uri": "https://localhost:8080/"
        },
        "id": "RAsYVl1pnE8J",
        "outputId": "2c732124-304c-458d-fba4-80bd4887e17a"
      },
      "execution_count": 20,
      "outputs": [
        {
          "output_type": "stream",
          "name": "stdout",
          "text": [
            "Logistic Regression results:\n",
            "Mean Accuracy: 0.812\n",
            "std Accuracy: 0.047\n",
            "Mean AUC_ROC: 0.916\n",
            "std AUC_ROC: 0.113\n"
          ]
        }
      ]
    },
    {
      "cell_type": "markdown",
      "source": [
        "SVM"
      ],
      "metadata": {
        "id": "a2e3CBB6k9gw"
      }
    },
    {
      "cell_type": "code",
      "source": [
        "from sklearn.svm import SVC\n",
        "kernels = ['linear', 'poly', 'rbf', 'sigmoid']\n",
        "for kernel in kernels:\n",
        "  clf = SVC(kernel = kernel,probability=True)\n",
        "  print(f\"SVM - {kernel} kernel\")\n",
        "  result = calc_accuracy_roc_by_kfold(clf, X, y)\n",
        "  # add to plot lists\n",
        "  models.append(f'SVM - {kernel}')\n",
        "  mean_accuracy.append(result[0])\n",
        "  mean_auc_roc.append(result[1])\n",
        "  print('-------------------')"
      ],
      "metadata": {
        "colab": {
          "base_uri": "https://localhost:8080/"
        },
        "id": "vcOIxAKPmQst",
        "outputId": "dec0c354-3721-4753-8f83-bfa0a796131d"
      },
      "execution_count": 21,
      "outputs": [
        {
          "output_type": "stream",
          "name": "stdout",
          "text": [
            "SVM - linear kernel\n",
            "Mean Accuracy: 0.824\n",
            "std Accuracy: 0.048\n",
            "Mean AUC_ROC: 0.908\n",
            "std AUC_ROC: 0.096\n",
            "-------------------\n",
            "SVM - poly kernel\n",
            "Mean Accuracy: 0.848\n",
            "std Accuracy: 0.054\n",
            "Mean AUC_ROC: 0.929\n",
            "std AUC_ROC: 0.096\n",
            "-------------------\n",
            "SVM - rbf kernel\n",
            "Mean Accuracy: 0.855\n",
            "std Accuracy: 0.040\n",
            "Mean AUC_ROC: 0.929\n",
            "std AUC_ROC: 0.084\n",
            "-------------------\n",
            "SVM - sigmoid kernel\n",
            "Mean Accuracy: 0.791\n",
            "std Accuracy: 0.061\n",
            "Mean AUC_ROC: 0.868\n",
            "std AUC_ROC: 0.095\n",
            "-------------------\n"
          ]
        }
      ]
    },
    {
      "cell_type": "markdown",
      "source": [
        "Gaussian Naive Bayes"
      ],
      "metadata": {
        "id": "5tocdnzqnaxb"
      }
    },
    {
      "cell_type": "code",
      "source": [
        "from sklearn.naive_bayes import GaussianNB\n",
        "\n",
        "gnb = GaussianNB()\n",
        "print(\"Naive Bayes results:\")\n",
        "result = calc_accuracy_roc_by_kfold(gnb, X, y)\n",
        "\n",
        "# add to plot lists\n",
        "models.append('Naive Bayes')\n",
        "mean_accuracy.append(result[0])\n",
        "mean_auc_roc.append(result[1])"
      ],
      "metadata": {
        "colab": {
          "base_uri": "https://localhost:8080/"
        },
        "id": "sWQ3lbvHnaa-",
        "outputId": "fe49764f-139a-44ae-8b76-d7c2894b26c7"
      },
      "execution_count": 22,
      "outputs": [
        {
          "output_type": "stream",
          "name": "stdout",
          "text": [
            "Naive Bayes results:\n",
            "Mean Accuracy: 0.824\n",
            "std Accuracy: 0.060\n",
            "Mean AUC_ROC: 0.894\n",
            "std AUC_ROC: 0.088\n"
          ]
        }
      ]
    },
    {
      "cell_type": "code",
      "source": [
        "plt.rcParams[\"figure.figsize\"] = (20,10)\n",
        "\n",
        "plt.bar(models,mean_accuracy)\n",
        "plt.xlabel('Model')\n",
        "plt.ylabel(\"Mean accuracy (%)\")\n",
        "plt.title('models mean accuracy over heart dataset')\n",
        "plt.show()"
      ],
      "metadata": {
        "colab": {
          "base_uri": "https://localhost:8080/",
          "height": 401
        },
        "id": "PikN1sIjqzoG",
        "outputId": "35238767-c5e3-4e54-a35c-e5a0806973cd"
      },
      "execution_count": 23,
      "outputs": [
        {
          "output_type": "display_data",
          "data": {
            "text/plain": [
              "<Figure size 1440x720 with 1 Axes>"
            ],
            "image/png": "[encoded data removed]"
          },
          "metadata": {
            "needs_background": "light"
          }
        }
      ]
    },
    {
      "cell_type": "code",
      "source": [
        "plt.bar(models,mean_auc_roc)\n",
        "plt.xlabel('Model')\n",
        "plt.ylabel(\"Mean AUC ROC (%)\")\n",
        "plt.title('models mean AUC ROC over heart dataset')\n",
        "plt.show()"
      ],
      "metadata": {
        "colab": {
          "base_uri": "https://localhost:8080/",
          "height": 401
        },
        "id": "PHNFLd9RuJJF",
        "outputId": "74e8923b-8a3e-46cb-c923-19e715b9801a"
      },
      "execution_count": 24,
      "outputs": [
        {
          "output_type": "display_data",
          "data": {
            "text/plain": [
              "<Figure size 1440x720 with 1 Axes>"
            ],
            "image/png": "[encoded data removed]"
          },
          "metadata": {
            "needs_background": "light"
          }
        }
      ]
    },
    {
      "cell_type": "markdown",
      "source": [
        "Random first is the most suited model for this mission. "
      ],
      "metadata": {
        "id": "L_Bgr7tmTguV"
      }
    }
  ]
}