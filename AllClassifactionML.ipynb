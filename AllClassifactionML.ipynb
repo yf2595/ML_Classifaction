{
  "nbformat": 4,
  "nbformat_minor": 0,
  "metadata": {
    "colab": {
      "name": "AllClassifactionML.ipynb",
      "provenance": [],
      "collapsed_sections": []
    },
    "kernelspec": {
      "name": "python3",
      "display_name": "Python 3"
    },
    "language_info": {
      "name": "python"
    }
  },
  "cells": [
    {
      "cell_type": "markdown",
      "source": [
        "Import the libereris "
      ],
      "metadata": {
        "id": "awVytKnl01hP"
      }
    },
    {
      "cell_type": "code",
      "execution_count": null,
      "metadata": {
        "id": "o2UwqmEI0yU5"
      },
      "outputs": [],
      "source": [
        "import numpy as np\n",
        "import matplotlib.pyplot as plt\n",
        "import pandas as pd"
      ]
    },
    {
      "cell_type": "markdown",
      "source": [
        "Import the dataSet \n",
        "turn into X and y\n",
        "\n"
      ],
      "metadata": {
        "id": "FwfxjKiO00VJ"
      }
    },
    {
      "cell_type": "code",
      "source": [
        "data = pd.read_csv(\"heart.csv\")\n",
        "X = data.iloc[:,0:-1].values\n",
        "y = data.iloc[:,-1].values\n",
        "print(X)\n",
        "print(y)"
      ],
      "metadata": {
        "colab": {
          "base_uri": "https://localhost:8080/"
        },
        "id": "7heXtLZS1L5A",
        "outputId": "8957f886-f994-4dde-f12f-2176f65cebcf"
      },
      "execution_count": null,
      "outputs": [
        {
          "output_type": "stream",
          "name": "stdout",
          "text": [
            "[[63.  1.  3. ...  0.  0.  1.]\n",
            " [37.  1.  2. ...  0.  0.  2.]\n",
            " [41.  0.  1. ...  2.  0.  2.]\n",
            " ...\n",
            " [68.  1.  0. ...  1.  2.  3.]\n",
            " [57.  1.  0. ...  1.  1.  3.]\n",
            " [57.  0.  1. ...  1.  1.  2.]]\n",
            "[1 1 1 1 1 1 1 1 1 1 1 1 1 1 1 1 1 1 1 1 1 1 1 1 1 1 1 1 1 1 1 1 1 1 1 1 1\n",
            " 1 1 1 1 1 1 1 1 1 1 1 1 1 1 1 1 1 1 1 1 1 1 1 1 1 1 1 1 1 1 1 1 1 1 1 1 1\n",
            " 1 1 1 1 1 1 1 1 1 1 1 1 1 1 1 1 1 1 1 1 1 1 1 1 1 1 1 1 1 1 1 1 1 1 1 1 1\n",
            " 1 1 1 1 1 1 1 1 1 1 1 1 1 1 1 1 1 1 1 1 1 1 1 1 1 1 1 1 1 1 1 1 1 1 1 1 1\n",
            " 1 1 1 1 1 1 1 1 1 1 1 1 1 1 1 1 1 0 0 0 0 0 0 0 0 0 0 0 0 0 0 0 0 0 0 0 0\n",
            " 0 0 0 0 0 0 0 0 0 0 0 0 0 0 0 0 0 0 0 0 0 0 0 0 0 0 0 0 0 0 0 0 0 0 0 0 0\n",
            " 0 0 0 0 0 0 0 0 0 0 0 0 0 0 0 0 0 0 0 0 0 0 0 0 0 0 0 0 0 0 0 0 0 0 0 0 0\n",
            " 0 0 0 0 0 0 0 0 0 0 0 0 0 0 0 0 0 0 0 0 0 0 0 0 0 0 0 0 0 0 0 0 0 0 0 0 0\n",
            " 0 0 0 0 0 0 0]\n"
          ]
        }
      ]
    },
    {
      "cell_type": "markdown",
      "source": [
        "Clean the data:\n",
        "\n",
        "*   replace missing slots or remove the entire row\n",
        "*   transrfrom categorial data\n",
        "*   one Hot encoding\n"
      ],
      "metadata": {
        "id": "M0LcEIca1bBy"
      }
    },
    {
      "cell_type": "code",
      "source": [
        ""
      ],
      "metadata": {
        "id": "0QA4CE_E1tRr"
      },
      "execution_count": null,
      "outputs": []
    },
    {
      "cell_type": "markdown",
      "source": [
        "Split into train and test"
      ],
      "metadata": {
        "id": "gt7uOGWN1vJv"
      }
    },
    {
      "cell_type": "code",
      "source": [
        "from sklearn.model_selection import train_test_split\n",
        "X_train, X_test, y_train, y_test = train_test_split(X, y, test_size = 0.2, random_state = 0)"
      ],
      "metadata": {
        "id": "m9XqPlRQ1xjh"
      },
      "execution_count": null,
      "outputs": []
    },
    {
      "cell_type": "markdown",
      "source": [
        "feature scailing\n"
      ],
      "metadata": {
        "id": "hc5jKySE1ylf"
      }
    },
    {
      "cell_type": "code",
      "source": [
        "from sklearn.preprocessing import StandardScaler\n",
        "sc = StandardScaler()\n",
        "X_train = sc.fit_transform(X_train)\n",
        "X_test = sc.transform(X_test)"
      ],
      "metadata": {
        "id": "4a_mSZe313cr"
      },
      "execution_count": null,
      "outputs": []
    },
    {
      "cell_type": "markdown",
      "source": [
        "Create and train the model"
      ],
      "metadata": {
        "id": "CrSAPfVm4gQW"
      }
    },
    {
      "cell_type": "markdown",
      "source": [
        "KNN classifier"
      ],
      "metadata": {
        "id": "NTgXQErg8Exi"
      }
    },
    {
      "cell_type": "code",
      "source": [
        "from sklearn.neighbors import KNeighborsClassifier\n",
        "knn_c = KNeighborsClassifier(n_neighbors = 5, metric = 'minkowski', p = 2)\n",
        "knn_c.fit(X_train, y_train)"
      ],
      "metadata": {
        "colab": {
          "base_uri": "https://localhost:8080/"
        },
        "id": "46ePiTVI4jOs",
        "outputId": "ca69a74d-0ca1-4d95-d49b-0fa8f9b8881e"
      },
      "execution_count": null,
      "outputs": [
        {
          "output_type": "execute_result",
          "data": {
            "text/plain": [
              "KNeighborsClassifier()"
            ]
          },
          "metadata": {},
          "execution_count": 13
        }
      ]
    },
    {
      "cell_type": "markdown",
      "source": [
        "Classification tree"
      ],
      "metadata": {
        "id": "pQ-OsAPs8JRG"
      }
    },
    {
      "cell_type": "code",
      "source": [
        "from sklearn.tree import DecisionTreeClassifier\n",
        "tree_c = DecisionTreeClassifier(criterion = 'entropy', random_state = 0)\n",
        "tree_c.fit(X_train, y_train)"
      ],
      "metadata": {
        "colab": {
          "base_uri": "https://localhost:8080/"
        },
        "id": "5EQOCbS68M3C",
        "outputId": "0a320c8e-8d5f-4eaf-c5c6-7be07ee357bf"
      },
      "execution_count": null,
      "outputs": [
        {
          "output_type": "execute_result",
          "data": {
            "text/plain": [
              "DecisionTreeClassifier(criterion='entropy', random_state=0)"
            ]
          },
          "metadata": {},
          "execution_count": 14
        }
      ]
    },
    {
      "cell_type": "markdown",
      "source": [
        "Random forest classifier"
      ],
      "metadata": {
        "id": "jOageJ-58OAP"
      }
    },
    {
      "cell_type": "code",
      "source": [
        "from sklearn.ensemble import RandomForestClassifier\n",
        "forest_c = RandomForestClassifier(n_estimators = 10, criterion = 'entropy', random_state = 0)\n",
        "forest_c.fit(X_train, y_train)"
      ],
      "metadata": {
        "colab": {
          "base_uri": "https://localhost:8080/"
        },
        "id": "BJ0Hzpgm8RJ0",
        "outputId": "84f599b8-d840-4f4f-ac5f-ddbfdf3bc4f9"
      },
      "execution_count": null,
      "outputs": [
        {
          "output_type": "execute_result",
          "data": {
            "text/plain": [
              "RandomForestClassifier(criterion='entropy', n_estimators=10, random_state=0)"
            ]
          },
          "metadata": {},
          "execution_count": 15
        }
      ]
    },
    {
      "cell_type": "markdown",
      "source": [
        "Prediction:\n",
        "\n",
        "*   single sample\n",
        "*   x test\n",
        "\n"
      ],
      "metadata": {
        "id": "vZL9GURf14V3"
      }
    },
    {
      "cell_type": "code",
      "source": [
        "y_pred_knn=knn_c.predict(X_test)\n",
        "y_pred_tree=tree_c.predict(X_test)\n",
        "y_pred_forest=forest_c.predict(X_test)"
      ],
      "metadata": {
        "id": "g6ZMk_5-1-iT"
      },
      "execution_count": null,
      "outputs": []
    },
    {
      "cell_type": "markdown",
      "source": [
        "Test the results"
      ],
      "metadata": {
        "id": "UlKH5mpE2AZZ"
      }
    },
    {
      "cell_type": "code",
      "source": [
        "print(np.concatenate((y_pred_knn.reshape(len(y_pred_knn),1),y_pred_tree.reshape(len(y_pred_tree),1),y_pred_forest.reshape(len(y_pred_forest),1), y_test.reshape(len(y_test),1)),1))"
      ],
      "metadata": {
        "colab": {
          "base_uri": "https://localhost:8080/"
        },
        "id": "YOQIxN7a2CKZ",
        "outputId": "c760330c-9880-48c8-f8da-e7d6f556066d"
      },
      "execution_count": null,
      "outputs": [
        {
          "output_type": "stream",
          "name": "stdout",
          "text": [
            "[[0 0 0 0]\n",
            " [0 0 1 1]\n",
            " [0 0 1 0]\n",
            " [0 0 0 0]\n",
            " [0 0 0 1]\n",
            " [1 1 1 0]\n",
            " [0 0 0 0]\n",
            " [0 0 0 0]\n",
            " [0 0 0 0]\n",
            " [0 0 0 0]\n",
            " [1 0 1 1]\n",
            " [1 1 1 1]\n",
            " [0 0 0 0]\n",
            " [1 1 1 1]\n",
            " [1 1 1 1]\n",
            " [1 1 0 1]\n",
            " [0 0 0 1]\n",
            " [1 1 1 1]\n",
            " [0 0 0 0]\n",
            " [1 1 1 1]\n",
            " [1 1 1 1]\n",
            " [1 0 0 0]\n",
            " [0 0 0 0]\n",
            " [0 0 0 0]\n",
            " [1 0 0 1]\n",
            " [1 1 0 0]\n",
            " [0 0 0 0]\n",
            " [0 0 0 0]\n",
            " [1 1 1 1]\n",
            " [1 1 1 1]\n",
            " [0 1 0 0]\n",
            " [0 0 0 0]\n",
            " [1 1 1 1]\n",
            " [1 0 1 1]\n",
            " [1 1 1 1]\n",
            " [0 0 1 0]\n",
            " [0 0 0 0]\n",
            " [1 1 1 1]\n",
            " [0 0 0 0]\n",
            " [1 0 0 0]\n",
            " [1 1 1 1]\n",
            " [1 0 0 1]\n",
            " [1 1 1 1]\n",
            " [0 0 0 0]\n",
            " [1 1 0 1]\n",
            " [0 1 1 1]\n",
            " [1 1 1 1]\n",
            " [1 1 0 0]\n",
            " [0 0 0 0]\n",
            " [1 1 1 1]\n",
            " [1 1 1 1]\n",
            " [0 1 1 1]\n",
            " [1 1 1 1]\n",
            " [1 0 1 1]\n",
            " [1 1 1 1]\n",
            " [0 0 0 0]\n",
            " [1 1 1 1]\n",
            " [1 1 1 0]\n",
            " [1 1 1 1]\n",
            " [1 1 1 1]\n",
            " [1 1 1 1]]\n"
          ]
        }
      ]
    },
    {
      "cell_type": "code",
      "source": [
        "from sklearn.metrics import confusion_matrix, accuracy_score\n",
        "#cm = confusion_matrix(y_test, y_pred_knn)\n",
        "#print(cm)\n",
        "print(\"Knn accuracy is: \"+str(accuracy_score(y_test, y_pred_knn)))\n",
        "print(\"Tree accuracy is: \"+str(accuracy_score(y_test, y_pred_tree)))\n",
        "print(\"Forest accuracy is: \"+str(accuracy_score(y_test, y_pred_forest)))"
      ],
      "metadata": {
        "colab": {
          "base_uri": "https://localhost:8080/"
        },
        "id": "-4scyc8p6ayp",
        "outputId": "7625e377-abb8-4414-d3d3-d96d12d88aec"
      },
      "execution_count": null,
      "outputs": [
        {
          "output_type": "stream",
          "name": "stdout",
          "text": [
            "Knn accuracy is: 0.819672131147541\n",
            "Tree accuracy is: 0.7868852459016393\n",
            "Forest accuracy is: 0.8360655737704918\n"
          ]
        }
      ]
    }
  ]
}